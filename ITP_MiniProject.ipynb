{
 "cells": [
  {
   "cell_type": "markdown",
   "id": "493f5003",
   "metadata": {},
   "source": [
    "1. Create a Dictionary of lists to store the information of shipments given in the table. The key should be the shipment id and the value with it’s details. "
   ]
  },
  {
   "cell_type": "code",
   "execution_count": 1,
   "id": "2c468ac1",
   "metadata": {},
   "outputs": [],
   "source": [
    "ship = {101:[1,3,'14-03-2020','25-03-2020','Area1','Area6','Delivered',198],\n",
    "        102:[4,1,'18-06-2020','09-07-2020','Area2','Area4','Delivered', 275],\n",
    "        103:[2,3,'01-12-2020','Null','Area5','Area1','In-Transit',200],\n",
    "        104:[1,5,'23-06-2020','25-06-2020','Area1','Area4', 'Delivered',314],\n",
    "        105:[3,4,'29-08-2020','10-09-2020','Area5','Area3','Delivered',275],\n",
    "        106:[5,2,'28-06-2020','Null','Area3','Area1','In-Transit',270],}"
   ]
  },
  {
   "cell_type": "markdown",
   "id": "c62b9765",
   "metadata": {},
   "source": [
    "2. Create a Dictionary to store the information of clients given in the table."
   ]
  },
  {
   "cell_type": "code",
   "execution_count": 2,
   "id": "4d9b4d03",
   "metadata": {},
   "outputs": [],
   "source": [
    "client_data={1:'Phillip',2:'Omega',3:'Ramya',4:'Romesh',5:'John'}"
   ]
  },
  {
   "cell_type": "markdown",
   "id": "435f8428",
   "metadata": {},
   "source": [
    "3. Write a code to replace clients' IDs with their respective names in the shipment\n",
    "dictionary using a loop and dictionary comprehension."
   ]
  },
  {
   "cell_type": "code",
   "execution_count": 3,
   "id": "0cac1e5d",
   "metadata": {},
   "outputs": [
    {
     "name": "stdout",
     "output_type": "stream",
     "text": [
      "{101: ['Phillip', 'Ramya', '14-03-2020', '25-03-2020', 'Area1', 'Area6', 'Delivered', 198], 102: ['Romesh', 'Phillip', '18-06-2020', '09-07-2020', 'Area2', 'Area4', 'Delivered', 275], 103: ['Omega', 'Ramya', '01-12-2020', 'Null', 'Area5', 'Area1', 'In-Transit', 200], 104: ['Phillip', 'John', '23-06-2020', '25-06-2020', 'Area1', 'Area4', 'Delivered', 314], 105: ['Ramya', 'Romesh', '29-08-2020', '10-09-2020', 'Area5', 'Area3', 'Delivered', 275], 106: ['John', 'Omega', '28-06-2020', 'Null', 'Area3', 'Area1', 'In-Transit', 270]}\n"
     ]
    }
   ],
   "source": [
    "for i in ship:\n",
    "        for j,_ in enumerate((ship[i])):\n",
    "                if ship[i][j] in client_data.keys():\n",
    "                    ship[i][j] = client_data[ship[i][j]]\n",
    "                    \n",
    "print(ship)"
   ]
  },
  {
   "cell_type": "markdown",
   "id": "78fd3cc2",
   "metadata": {},
   "source": [
    "4. Print all shipment details that are sent by Phillip"
   ]
  },
  {
   "cell_type": "code",
   "execution_count": 4,
   "id": "d92aebf0",
   "metadata": {
    "scrolled": true
   },
   "outputs": [
    {
     "name": "stdout",
     "output_type": "stream",
     "text": [
      "['Phillip', 'Ramya', '14-03-2020', '25-03-2020', 'Area1', 'Area6', 'Delivered', 198]\n",
      "['Phillip', 'John', '23-06-2020', '25-06-2020', 'Area1', 'Area4', 'Delivered', 314]\n"
     ]
    }
   ],
   "source": [
    "for values in ship.values():\n",
    "    if values[0]=='Phillip':\n",
    "        print(values)\n",
    "        "
   ]
  },
  {
   "cell_type": "markdown",
   "id": "48b8bd27",
   "metadata": {},
   "source": [
    "5. Print all shipment details that are received by Ramya"
   ]
  },
  {
   "cell_type": "code",
   "execution_count": 5,
   "id": "ebeb7eaa",
   "metadata": {},
   "outputs": [
    {
     "name": "stdout",
     "output_type": "stream",
     "text": [
      "['Phillip', 'Ramya', '14-03-2020', '25-03-2020', 'Area1', 'Area6', 'Delivered', 198]\n",
      "['Omega', 'Ramya', '01-12-2020', 'Null', 'Area5', 'Area1', 'In-Transit', 200]\n"
     ]
    }
   ],
   "source": [
    "for values in ship.values():\n",
    "    if values[1]=='Ramya':\n",
    "        print(values)"
   ]
  },
  {
   "cell_type": "markdown",
   "id": "6d82fd4c",
   "metadata": {},
   "source": [
    "6. Print all shipments which are in 'In-Transit' status\n"
   ]
  },
  {
   "cell_type": "code",
   "execution_count": 6,
   "id": "e52183d8",
   "metadata": {},
   "outputs": [
    {
     "name": "stdout",
     "output_type": "stream",
     "text": [
      "['Omega', 'Ramya', '01-12-2020', 'Null', 'Area5', 'Area1', 'In-Transit', 200]\n",
      "['John', 'Omega', '28-06-2020', 'Null', 'Area3', 'Area1', 'In-Transit', 270]\n"
     ]
    }
   ],
   "source": [
    "for values in ship.values():\n",
    "    for j in range(0,7):\n",
    "        if values[j]=='In-Transit':\n",
    "            print(values)"
   ]
  },
  {
   "cell_type": "markdown",
   "id": "20df6302",
   "metadata": {},
   "source": [
    "7. Print all shipments which are delivered within 7 days of courier Start date"
   ]
  },
  {
   "cell_type": "code",
   "execution_count": 10,
   "id": "c4607f64",
   "metadata": {},
   "outputs": [
    {
     "name": "stdout",
     "output_type": "stream",
     "text": [
      "['Phillip', 'John', '23-06-2020', '25-06-2020', 'Area1', 'Area4', 'Delivered', 314]\n"
     ]
    }
   ],
   "source": [
    "from datetime import datetime\n",
    "\n",
    "for values in ship.values():\n",
    "    if values[3]=='Null':\n",
    "        continue\n",
    "    else:\n",
    "        s=datetime.strptime(values[2],\"%d-%m-%Y\")\n",
    "        t=datetime.strptime(values[3],\"%d-%m-%Y\")\n",
    "        if (t-s).days<=7:\n",
    "            print(values)\n"
   ]
  },
  {
   "cell_type": "markdown",
   "id": "ef32c138",
   "metadata": {},
   "source": [
    "8. Print all shipments which are delivered after 15 days of courier start date or not yet been delivered."
   ]
  },
  {
   "cell_type": "code",
   "execution_count": 537,
   "id": "641d6ab8",
   "metadata": {},
   "outputs": [
    {
     "name": "stdout",
     "output_type": "stream",
     "text": [
      "['Romesh', 'Phillip', '18-06-2020', '09-07-2020', 'Area2', 'Area4', 'Delivered', 275]\n"
     ]
    }
   ],
   "source": [
    "import datetime\n",
    "for val in ship.values():\n",
    "    if val[3]=='Null':\n",
    "        continue\n",
    "    else :\n",
    "        start_date=datetime.datetime.strptime(val[2],\"%d-%m-%Y\")\n",
    "        Delivered_date=datetime.datetime.strptime(val[3],\"%d-%m-%Y\")\n",
    "        if (Delivered_date-start_date).days>15 and val[6] == 'Delivered':\n",
    "            print(val)"
   ]
  },
  {
   "cell_type": "code",
   "execution_count": null,
   "id": "0f47598e",
   "metadata": {},
   "outputs": [],
   "source": []
  }
 ],
 "metadata": {
  "kernelspec": {
   "display_name": "Python 3",
   "language": "python",
   "name": "python3"
  },
  "language_info": {
   "codemirror_mode": {
    "name": "ipython",
    "version": 3
   },
   "file_extension": ".py",
   "mimetype": "text/x-python",
   "name": "python",
   "nbconvert_exporter": "python",
   "pygments_lexer": "ipython3",
   "version": "3.8.8"
  }
 },
 "nbformat": 4,
 "nbformat_minor": 5
}
